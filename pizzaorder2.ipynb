{
  "nbformat": 4,
  "nbformat_minor": 0,
  "metadata": {
    "colab": {
      "provenance": []
    },
    "kernelspec": {
      "name": "python3",
      "display_name": "Python 3"
    },
    "language_info": {
      "name": "python"
    }
  },
  "cells": [
    {
      "cell_type": "code",
      "execution_count": null,
      "metadata": {
        "colab": {
          "base_uri": "https://localhost:8080/"
        },
        "id": "0H0sNnl7Q7Hl",
        "outputId": "5c6834ad-6dff-42f7-d72a-f7292030e713"
      },
      "outputs": [
        {
          "output_type": "stream",
          "name": "stdout",
          "text": [
            "****Pizza Boyutları****\n",
            "\n",
            "Küçük Boy \n",
            "Orta Boy\n",
            "Büyük Boy\n",
            "XXMax\n",
            "\n",
            "Lütfen bir boyut seçin: Küçük Boy\n",
            "\n",
            "***PİZZA MALZEMELERİ****\n",
            "\n",
            "1. Mantar\n",
            "2. Zeytin\n",
            "3. Biber\n",
            "4. Soğan\n",
            "5. Sosis\n",
            "6. Sucuk\n",
            "7.Pastırma\n",
            "8.Mısır\n",
            "\n",
            "Lütfen malzeme seçin (örn: 1 2 3): 2 3 4 5 7 8 \n",
            "\n",
            "****SİPARİŞ ÖZETİ****\n",
            "\n",
            "Boyut: Küçük Boy\n",
            "Malzemeler: 2 3 4 5 7 8 \n",
            "\n",
            "Toplam Fiyat: ₺ 96\n"
          ]
        }
      ],
      "source": [
        "print(\"****Pizza Boyutları****\")\n",
        "print(\"\")\n",
        "print(\"Küçük Boy \")\n",
        "print(\"Orta Boy\")\n",
        "print(\"Büyük Boy\")\n",
        "print(\"XXMax\")\n",
        "print(\"\")\n",
        "\n",
        "\n",
        "boyut = input(\"Lütfen bir boyut seçin: \")\n",
        "print(\"\")\n",
        "\n",
        "if boyut == \"Küçük Boy\":\n",
        "    fiyat = 70\n",
        "elif boyut == \"Orta Boy\":\n",
        "    fiyat = 80\n",
        "elif boyut == \"Büyük Boy\":\n",
        "    fiyat = 90\n",
        "elif boyut == \"XXMax\":\n",
        "    fiyat = 110\n",
        "else:\n",
        "    print(\"Hatalı bir seçim yaptınız. Lütfen yeniden deneyin.\")\n",
        "    exit()\n",
        "\n",
        "print(\"***PİZZA MALZEMELERİ****\")\n",
        "print(\"\")\n",
        "\n",
        "pizzaMalzemeleri = [\"1. Mantar\",\"2. Zeytin\",\"3. Biber\",\"4. Soğan\",\"5. Sosis\",\"6. Sucuk\",\"7.Pastırma\",\"8.Mısır\"]\n",
        "\n",
        "for i in pizzaMalzemeleri:\n",
        "  print(i)\n",
        "print(\"\")\n",
        "malzemeler = input(\"Lütfen malzeme seçin (örn: 1 2 3): \")\n",
        "\n",
        "malzemeler_listesi = malzemeler.split()\n",
        "ekstra_fiyat = 0\n",
        "for m in malzemeler_listesi:\n",
        "    if m == \"1\":\n",
        "        ekstra_fiyat += 5\n",
        "    elif m == \"2\":\n",
        "        ekstra_fiyat += 3\n",
        "    elif m == \"3\":\n",
        "        ekstra_fiyat += 2\n",
        "    elif m == \"4\":\n",
        "        ekstra_fiyat += 1\n",
        "    elif m == \"5\":\n",
        "      ekstra_fiyat += 6\n",
        "    elif m == \"6\":\n",
        "      ekstra_fiyat += 7\n",
        "    elif m == \"7\":\n",
        "      ekstra_fiyat += 10\n",
        "    elif m == \"8\":\n",
        "      ekstra_fiyat += 4\n",
        "    else:\n",
        "        print(\"Hatalı bir seçim yaptınız. Lütfen yeniden deneyin.\")\n",
        "        exit()\n",
        "\n",
        "toplam_fiyat = fiyat + ekstra_fiyat\n",
        "print(\"\")\n",
        "print(\"****SİPARİŞ ÖZETİ****\")\n",
        "print(\"\")\n",
        "print(\"Boyut:\", boyut)\n",
        "print(\"Malzemeler:\", malzemeler)\n",
        "print(\"\")\n",
        "print(\"Toplam Fiyat: ₺\",toplam_fiyat )\n"
      ]
    }
  ]
}